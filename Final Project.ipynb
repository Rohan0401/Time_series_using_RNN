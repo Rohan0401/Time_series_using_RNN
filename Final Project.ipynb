{
 "cells": [
  {
   "cell_type": "code",
   "execution_count": 22,
   "metadata": {
    "collapsed": false
   },
   "outputs": [],
   "source": [
    "# Author : Rohan Singh Rajput  \n",
    "# Project : Mult-Purpose Deep Learning Forecsasting Model \n",
    "# \n",
    "# \n",
    "\n",
    "\n",
    "\"\"\" This is the final term project for multipurpose forecasting model for the power using Deep learning network \n",
    "we have used the Recurrent Neural Network (RNN) using Long-Short Term Memory (LSTM), Simple RNN and GRU for the time series prediction of this project\n",
    ".This project uses deep learning library TensorFlow using Keras Wrapper arround it.\n",
    "\"\"\"\n",
    "\n",
    "\"\"\"Please provide all the data accorfingly in order to run the file.\"\"\"\n",
    "import time\n",
    "import numpy\n",
    "import matplotlib.pyplot as plt\n",
    "\n",
    "import pandas\n",
    "import math\n",
    "from keras.models import Sequential\n",
    "from keras.callbacks import TensorBoard\n",
    "from keras.layers import Dense ,Activation\n",
    "from keras.layers import LSTM\n",
    "from keras.layers import GRU\n",
    "from keras.layers import SimpleRNN\n",
    "from sklearn.preprocessing import MinMaxScaler\n",
    "from sklearn.metrics import mean_squared_error\n",
    "from sklearn.metrics import mean_absolute_error\n",
    "\n",
    "%matplotlib inline\n"
   ]
  },
  {
   "cell_type": "code",
   "execution_count": 23,
   "metadata": {
    "collapsed": false
   },
   "outputs": [],
   "source": [
    "# Here intial declartion can be provided for model traning\n",
    "splitfactor,prev=.80,3\n",
    "#batch_size = 1\n",
    "# convert an array of values into a dataset matrix\n",
    "def construct(d1,prev):\n",
    "\tx,y,val=[],[],len(d1)-prev\n",
    "\tfor z in range(val-1):\n",
    "\t\tx.append(d1[z:(z+prev), 0]),y.append(d1[z + prev, 0])\n",
    "\treturn numpy.array(x), numpy.array(y)\n"
   ]
  },
  {
   "cell_type": "code",
   "execution_count": 24,
   "metadata": {
    "collapsed": false
   },
   "outputs": [],
   "source": [
    "# fix random seed for reproducibility\n",
    "numpy.random.seed(7)\n",
    "\n",
    "# load the dataset and normalize it, provide the size of the data included.\n",
    "path = '/home/rohan/Machine_Learning_Project/hourly_2007.csv'\n",
    "data_set = None\n",
    "def getdata(path,data_set):\n",
    "    frame = pandas.read_csv(path, engine='python',usecols=[1],nrows=data_set,skiprows=1)\n",
    "    print len(frame)\n",
    "#frame = pandas.read_csv(path, usecols=[2], engine='python', skipfooter=None)\n",
    "    scaler = MinMaxScaler(feature_range=(0, 1))\n",
    "    return scaler.fit_transform((frame.values).astype('float32')), scaler\n",
    "\n"
   ]
  },
  {
   "cell_type": "code",
   "execution_count": 25,
   "metadata": {
    "collapsed": false
   },
   "outputs": [
    {
     "name": "stdout",
     "output_type": "stream",
     "text": [
      "8759\n",
      "(7003, 1748)\n"
     ]
    }
   ],
   "source": [
    "def data_modifier(d1, splitfactor,prev):\n",
    "\t# split into train and test sets\n",
    "\tdata_train,data_test = int(len(d1) *splitfactor ),int(len(d1) *(1-splitfactor))\n",
    "\n",
    "\ttrain, test = d1[0:data_train,:], d1[data_train:len(d1),:]\n",
    "\n",
    "\t# reshape into X=t and Y=t+1\n",
    "\ttrain_X, train_Y = construct(train, prev)\n",
    "\ttestX, testY=construct(test, prev)\n",
    "   \n",
    "\t# reshape input to be [samples, time steps, features]\n",
    "\ttrain_X = numpy.reshape(train_X, (train_X.shape[0], train_X.shape[1], 1))\n",
    "\ttestX = numpy.reshape(testX, (testX.shape[0], testX.shape[1], 1))\n",
    "\treturn train_X,testX, train_Y, testY\n",
    "#tb = TensorBoard(log_dir='/home/gaurav/Solar_power_dnn/logs', histogram_freq=0, write_graph=True, write_images=False)\n",
    "d1,scaler=getdata(path,data_set)\n",
    "\n",
    "train_X,testX, train_Y, testY=data_modifier(d1,splitfactor,prev)\n",
    "print (len(train_X),len(testX))"
   ]
  },
  {
   "cell_type": "code",
   "execution_count": 26,
   "metadata": {
    "collapsed": false,
    "scrolled": false
   },
   "outputs": [
    {
     "name": "stdout",
     "output_type": "stream",
     "text": [
      "Epoch 1/20\n",
      "13s - loss: 0.0213\n",
      "Epoch 2/20\n",
      "12s - loss: 0.0106\n",
      "Epoch 3/20\n",
      "12s - loss: 0.0104\n",
      "Epoch 4/20\n",
      "12s - loss: 0.0103\n",
      "Epoch 5/20\n",
      "12s - loss: 0.0103\n",
      "Epoch 6/20\n",
      "12s - loss: 0.0102\n",
      "Epoch 7/20\n",
      "12s - loss: 0.0102\n",
      "Epoch 8/20\n",
      "12s - loss: 0.0102\n",
      "Epoch 9/20\n",
      "13s - loss: 0.0102\n",
      "Epoch 10/20\n",
      "12s - loss: 0.0102\n",
      "Epoch 11/20\n",
      "13s - loss: 0.0102\n",
      "Epoch 12/20\n",
      "12s - loss: 0.0102\n",
      "Epoch 13/20\n",
      "12s - loss: 0.0102\n",
      "Epoch 14/20\n",
      "13s - loss: 0.0102\n",
      "Epoch 15/20\n",
      "12s - loss: 0.0102\n",
      "Epoch 16/20\n",
      "13s - loss: 0.0102\n",
      "Epoch 17/20\n",
      "12s - loss: 0.0102\n",
      "Epoch 18/20\n",
      "13s - loss: 0.0102\n",
      "Epoch 19/20\n",
      "13s - loss: 0.0102\n",
      "Epoch 20/20\n",
      "13s - loss: 0.0102\n"
     ]
    }
   ],
   "source": [
    "\n",
    "# create and fit the LSTM network\n",
    "def build_model(train_X, train_Y,prev):\n",
    "    model = Sequential()\n",
    "    batch_size=1\n",
    "    model.add(SimpleRNN(4, batch_input_shape=(batch_size,prev, 1), stateful=True, return_sequences=True))\n",
    "    model.add(LSTM(6, batch_input_shape=(batch_size,prev, 1), stateful=True, return_sequences=True))\n",
    "    model.add(LSTM(4,batch_input_shape=(batch_size,prev,1),stateful=True))\n",
    "    model.add(Dense(1))\n",
    "    model.compile(loss='mean_squared_error', optimizer='adam')\n",
    "    for i in range(1):\n",
    "        model.fit(train_X, train_Y, nb_epoch=20, batch_size=batch_size, verbose=2,shuffle=False)\n",
    "        model.reset_states()\n",
    "    return model    \n",
    "model=build_model(train_X, train_Y,prev)\t\t\n",
    "\n",
    "\n"
   ]
  },
  {
   "cell_type": "code",
   "execution_count": 27,
   "metadata": {
    "collapsed": false
   },
   "outputs": [],
   "source": [
    "batch_size=1\n",
    "def transform(x):\n",
    "\treturn scaler.inverse_transform(x)\n",
    "# make predictions\n",
    "predtr = transform(model.predict(train_X,batch_size))\n",
    "predtr[predtr < 0] = 0\n",
    "train_Y =  transform([train_Y])\n",
    "predte,testY = transform(model.predict(testX, batch_size)),transform([testY])\n",
    "predte[predte < 0] = 0"
   ]
  },
  {
   "cell_type": "code",
   "execution_count": 28,
   "metadata": {
    "collapsed": false
   },
   "outputs": [
    {
     "name": "stdout",
     "output_type": "stream",
     "text": [
      "Train Score: 40.05 RMSE\n",
      "Test Score: 45.18 RMSE\n",
      "Train Score: 30.00 MAE\n",
      "Test Score: 32.47 MAE\n"
     ]
    }
   ],
   "source": [
    "def err(x,x1,i):\n",
    "\tif i==1:\n",
    "\t    return math.sqrt(mean_squared_error(x, x1))\n",
    "\telse:\n",
    "\t    return mean_absolute_error(x, x1)\n",
    "\n",
    "# calculate root mean squared error\n",
    "trerr= err(train_Y[0],predtr[:,0],1)\n",
    "teerr =err(testY[0], predte[:,0],1)\n",
    "print 'Train Score: %.2f RMSE' %(trerr)\n",
    "print 'Test Score: %.2f RMSE' % (teerr)\n",
    "# calculate mean absloute error\n",
    "meanerrtr = err(train_Y[0],predtr[:,0],0)\n",
    "meanerrte = err(testY[0], predte[:,0],0)\n",
    "print 'Train Score: %.2f MAE' %(meanerrtr)\n",
    "print 'Test Score: %.2f MAE' % (meanerrte)\n",
    "\n"
   ]
  },
  {
   "cell_type": "code",
   "execution_count": 29,
   "metadata": {
    "collapsed": false
   },
   "outputs": [],
   "source": [
    "def predplot(predtr,predte,prev):\n",
    "\t# shift train predictions for plotting\n",
    "\tpredtrPlot = numpy.empty_like(d1)\n",
    "\tpredtrPlot[:, :] = numpy.nan\n",
    "\tpredtrPlot[prev:len(predtr)+prev, :] = predtr\n",
    "\t# shift test predictions for plotting\n",
    "\tpredtePlot = numpy.empty_like(d1)\n",
    "\tpredtePlot[:, :] = numpy.nan\n",
    "\tpredtePlot[len(predtr)+(prev*2)+1:len(d1)-1, :] = predte\n",
    "\n",
    "\treturn predtrPlot,predtePlot\n",
    "\n",
    "predtrPlot,predtePlot=predplot(predtr,predte,prev)\n",
    "\n",
    "\n"
   ]
  },
  {
   "cell_type": "code",
   "execution_count": 30,
   "metadata": {
    "collapsed": false,
    "scrolled": true
   },
   "outputs": [
    {
     "data": {
      "image/png": "[encoded data removed]",
      "text/plain": [
       "<matplotlib.figure.Figure at 0x7f07478f4cd0>"
      ]
     },
     "metadata": {},
     "output_type": "display_data"
    }
   ],
   "source": [
    "# Plotting of values\n",
    "plt.plot(scaler.inverse_transform(d1[7050:7100]))\n",
    "#plt.plot(predtrPlot)\n",
    "plt.plot(predtePlot[7050:7100])\n",
    "plt.xlabel('Time (in hours)')\n",
    "plt.ylabel('Power Consumption (in KW)')\n",
    "plt.title('Result for Hourly power consumption (%i datapoints)' %(len(d1)))\n",
    "plt.legend(['Actual','Test'])# loc = 'lower right')\n",
    "plt.show()\n"
   ]
  },
  {
   "cell_type": "code",
   "execution_count": null,
   "metadata": {
    "collapsed": true
   },
   "outputs": [],
   "source": []
  },
  {
   "cell_type": "code",
   "execution_count": null,
   "metadata": {
    "collapsed": false
   },
   "outputs": [],
   "source": []
  }
 ],
 "metadata": {
  "kernelspec": {
   "display_name": "Python 2",
   "language": "python",
   "name": "python2"
  },
  "language_info": {
   "codemirror_mode": {
    "name": "ipython",
    "version": 2
   },
   "file_extension": ".py",
   "mimetype": "text/x-python",
   "name": "python",
   "nbconvert_exporter": "python",
   "pygments_lexer": "ipython2",
   "version": "2.7.12"
  }
 },
 "nbformat": 4,
 "nbformat_minor": 0
}
